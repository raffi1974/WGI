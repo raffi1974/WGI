{
 "cells": [
  {
   "attachments": {},
   "cell_type": "markdown",
   "metadata": {},
   "source": [
    "#### WorldBank TCdata360"
   ]
  },
  {
   "cell_type": "code",
   "execution_count": 1,
   "metadata": {},
   "outputs": [],
   "source": [
    "import pandas as pd\n",
    "import numpy as np\n",
    "import os\n",
    "import time\n",
    "import logging\n",
    "from datetime import datetime\n",
    "import requests\n",
    "from bs4 import BeautifulSoup\n",
    "import openpyxl\n",
    "import json\n",
    "import xmltodict\n",
    "import io\n",
    "\n",
    "pd.set_option('display.max_colwidth', None)\n",
    "#logger\n",
    "logging.basicConfig(filename='ISPAR.log', filemode='w', format='%(asctime)s - %(message)s', level=logging.INFO)"
   ]
  },
  {
   "attachments": {},
   "cell_type": "markdown",
   "metadata": {},
   "source": [
    "#### getting Pillar Performance Per Country"
   ]
  },
  {
   "cell_type": "code",
   "execution_count": 2,
   "metadata": {},
   "outputs": [],
   "source": [
    "id={3:'Global Cybersecurity Index',\n",
    "        4:'Global Gender Gap Index',\n",
    "        5:'ICT Development Index',\n",
    "        6:'Network Readiness Index',\n",
    "        7:'Global Innovation Index',\n",
    "        9:'E-Government Development Index',\n",
    "        11:'Global Competitiveness Index',\n",
    "        12:'E-Participation index',\n",
    "        14:'AI Readiness Index',\n",
    "        16:'Open Data Inventory Index'}\n",
    "\n",
    "#get country list\n",
    "country=['Algeria','Bahrain','Comoros','Djibouti','Egypt','Iraq','Jordan','Kuwait','Lebanon','Libya','Morocco','Oman','Qatar','Saudi Arabia','Somalia','State of Palestine','Sudan','Syrian Arab Republic','Tunisia','United Arab Emirates','Yemen, Rep.']\n",
    "\n",
    "url='https://datacatalog.unescwa.org/datastore/dump_v2?resource_id=e0d88222-f90c-4a92-8de4-397f6529c402&format=csv'\n",
    "\n",
    "#get the url for download\n",
    "response=requests.get(url)\n",
    "\n",
    "try:\n",
    "    if response.status_code!=200:\n",
    "        logging.warning(f'!!!!!!WARNING!!!!!!status code is {response.status_code}')\n",
    "\n",
    "    #read the response into pandas dataframe\n",
    "    df = pd.read_csv(io.BytesIO(response.content))\n",
    "    logging.info(f'dataframe returned with {len(df)} rows')\n",
    "\n",
    "    #remove the 0.colname from column names\n",
    "    df.columns=[i.replace(\"0.\", \"\") for i in df.columns]\n",
    "\n",
    "    #filter on Index ID and 'Country Name'\n",
    "    df_filtered=df[(df['Index ID'].isin(id)) & (df['Country Name'].isin(country))]\n",
    "    df_filtered.to_excel('ISPAR.xlsx', index=False)\n",
    "    logging.info(f'dataframe for Arab countries returned with {len(df)} rows')\n",
    "\n",
    "    # #to download to a csv\n",
    "    # with open('ISPAR.csv', 'wb') as f:\n",
    "    #     f.write(response.content)\n",
    "\n",
    "except Exception as e:\n",
    "    logging.warning(f'!!!WARNING!!!  {e}')"
   ]
  },
  {
   "cell_type": "code",
   "execution_count": null,
   "metadata": {},
   "outputs": [],
   "source": []
  },
  {
   "cell_type": "code",
   "execution_count": null,
   "metadata": {},
   "outputs": [],
   "source": []
  },
  {
   "cell_type": "code",
   "execution_count": null,
   "metadata": {},
   "outputs": [],
   "source": []
  }
 ],
 "metadata": {
  "kernelspec": {
   "display_name": "Python 3.9.5 ('gender')",
   "language": "python",
   "name": "python3"
  },
  "language_info": {
   "codemirror_mode": {
    "name": "ipython",
    "version": 3
   },
   "file_extension": ".py",
   "mimetype": "text/x-python",
   "name": "python",
   "nbconvert_exporter": "python",
   "pygments_lexer": "ipython3",
   "version": "3.9.5"
  },
  "orig_nbformat": 4,
  "vscode": {
   "interpreter": {
    "hash": "3340a8dbe92e4fa49e59761da80fb0f001258019a079c0e852bc3c4ea6500ccf"
   }
  }
 },
 "nbformat": 4,
 "nbformat_minor": 2
}
