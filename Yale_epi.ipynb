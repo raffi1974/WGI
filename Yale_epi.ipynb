{
 "cells": [
  {
   "attachments": {},
   "cell_type": "markdown",
   "metadata": {},
   "source": [
    "#### bulk download World Bank Governance data"
   ]
  },
  {
   "cell_type": "code",
   "execution_count": 1,
   "metadata": {},
   "outputs": [],
   "source": [
    "import pandas as pd\n",
    "import numpy as np\n",
    "import os\n",
    "import time\n",
    "import logging\n",
    "from datetime import datetime\n",
    "import requests\n",
    "from bs4 import BeautifulSoup\n",
    "import openpyxl\n",
    "\n",
    "pd.set_option('display.max_colwidth', None)"
   ]
  },
  {
   "cell_type": "code",
   "execution_count": 51,
   "metadata": {},
   "outputs": [
    {
     "name": "stdout",
     "output_type": "stream",
     "text": [
      "https://sedac.ciesin.columbia.edu/data/set/epi-environmental-performance-index-2022\n"
     ]
    }
   ],
   "source": [
    "#logger\n",
    "# logging.basicConfig(filename='Yale_epi.log', filemode='w', format='%(asctime)s - %(message)s', level=logging.INFO)\n",
    "\n",
    "url='https://sedac.ciesin.columbia.edu/data/collection/epi/sets/browse'\n",
    "\n",
    "try:\n",
    "\n",
    "    #get the url for download\n",
    "    response=requests.get(url)\n",
    "    if response.status_code==200:\n",
    "        logging.info(f'request status code for the main url {response.status_code}')\n",
    "    else:\n",
    "        logging.warning(f'!!!WARNING!!! request status code for the main url {response.status_code}')\n",
    "\n",
    "    soup=BeautifulSoup(response.content, 'html.parser')\n",
    "\n",
    "    #getting the max year in the href texts, to subsequently download that specific href\n",
    "    s1=soup.find_all(\"div\", {\"class\": \"html5-section set-result\"})\n",
    "\n",
    "    #extract dates, transform them into date format and get the index of the maximum\n",
    "    years=[]\n",
    "    for i in s1:\n",
    "        y=i.find('a')['href'][-4:]\n",
    "        years.append(datetime.strptime(y, \"%Y\").year)\n",
    "\n",
    "    #get the maximum of the years\n",
    "    max_year=max(years)\n",
    "    #get the index of themax year\n",
    "    idx=years.index(max_year)\n",
    "    logging.info(f'latest year is {max_year} with index {idx}')\n",
    "\n",
    "    #get the href of the latest year data\n",
    "    url=s1[idx].find(\"a\")['href']\n",
    "\n",
    "    domain='https://sedac.ciesin.columbia.edu'\n",
    "    #construct the url\n",
    "    data_url=domain+url\n",
    "    print(data_url)\n",
    "\n",
    "except Exception as e:\n",
    "    logging.warning(f'!!!WARNING!!! exception occured {e}')\n",
    "\n",
    "# #to download the url\n",
    "# try:\n",
    "#     r=requests.get(bulk_download_url)\n",
    "#     logging.info(f'Download request is status code is {r.status_code}')\n",
    "# except Exception as e:\n",
    "#     logging.warning(e)\n",
    "\n",
    "# #write the raw data to excel\n",
    "# with open('WB governance.xlsx','wb') as f:\n",
    "#     try:\n",
    "#         f.write(r.content)\n",
    "#         logging.info('successfuly downloaded bulk excel file')\n",
    "#     except Exception as e:\n",
    "#         logging.warning(e)\n",
    "# logging.info('#######################################################')"
   ]
  },
  {
   "cell_type": "code",
   "execution_count": null,
   "metadata": {},
   "outputs": [],
   "source": []
  },
  {
   "cell_type": "code",
   "execution_count": null,
   "metadata": {},
   "outputs": [],
   "source": []
  },
  {
   "cell_type": "code",
   "execution_count": null,
   "metadata": {},
   "outputs": [],
   "source": []
  },
  {
   "cell_type": "code",
   "execution_count": null,
   "metadata": {},
   "outputs": [],
   "source": []
  },
  {
   "cell_type": "code",
   "execution_count": null,
   "metadata": {},
   "outputs": [],
   "source": []
  },
  {
   "cell_type": "code",
   "execution_count": null,
   "metadata": {},
   "outputs": [],
   "source": []
  },
  {
   "cell_type": "code",
   "execution_count": null,
   "metadata": {},
   "outputs": [],
   "source": []
  },
  {
   "cell_type": "code",
   "execution_count": null,
   "metadata": {},
   "outputs": [],
   "source": []
  },
  {
   "cell_type": "code",
   "execution_count": null,
   "metadata": {},
   "outputs": [],
   "source": []
  },
  {
   "cell_type": "code",
   "execution_count": null,
   "metadata": {},
   "outputs": [],
   "source": []
  }
 ],
 "metadata": {
  "kernelspec": {
   "display_name": "Python 3.9.5 ('gender')",
   "language": "python",
   "name": "python3"
  },
  "language_info": {
   "codemirror_mode": {
    "name": "ipython",
    "version": 3
   },
   "file_extension": ".py",
   "mimetype": "text/x-python",
   "name": "python",
   "nbconvert_exporter": "python",
   "pygments_lexer": "ipython3",
   "version": "3.9.5"
  },
  "orig_nbformat": 4,
  "vscode": {
   "interpreter": {
    "hash": "3340a8dbe92e4fa49e59761da80fb0f001258019a079c0e852bc3c4ea6500ccf"
   }
  }
 },
 "nbformat": 4,
 "nbformat_minor": 2
}
