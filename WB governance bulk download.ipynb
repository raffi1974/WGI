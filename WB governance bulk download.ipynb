{
 "cells": [
  {
   "attachments": {},
   "cell_type": "markdown",
   "metadata": {},
   "source": [
    "#### bulk download World Bank Governance data"
   ]
  },
  {
   "cell_type": "code",
   "execution_count": 5,
   "metadata": {},
   "outputs": [],
   "source": [
    "import pandas as pd\n",
    "import numpy as np\n",
    "import os\n",
    "import time\n",
    "import logging\n",
    "from datetime import datetime\n",
    "import requests\n",
    "from bs4 import BeautifulSoup\n",
    "import openpyxl\n",
    "\n",
    "pd.set_option('display.max_colwidth', None)"
   ]
  },
  {
   "cell_type": "code",
   "execution_count": 13,
   "metadata": {},
   "outputs": [
    {
     "name": "stdout",
     "output_type": "stream",
     "text": [
      "200\n"
     ]
    }
   ],
   "source": [
    "#logger\n",
    "logging.basicConfig(filename='WB governance.log', filemode='w', format='%(asctime)s - %(message)s', level=logging.INFO)\n",
    "\n",
    "url='https://info.worldbank.org/governance/wgi/#home'\n",
    "\n",
    "response=requests.get(url)\n",
    "print(response.status_code)\n",
    "#to get the url for download\n",
    "soup=BeautifulSoup(response.content, 'html.parser')\n",
    "\n",
    "#getting the href for Download full dataset (Excel) link in the webpage\n",
    "s1=soup.find_all(\"ul\", {\"class\": \"listItems\"})\n",
    "\n",
    "url=s1[1].find_all(\"a\", {\"class\": \"file-download\"})[2]['href']\n",
    "domain='https://info.worldbank.org'\n",
    "#construct the url\n",
    "bulk_download_url=domain+url\n",
    "#to download the url\n",
    "try:\n",
    "    r=requests.get(bulk_download_url)\n",
    "    logging.info(f'Download request is sucessful {r.status_code}')\n",
    "except Exception as e:\n",
    "    logging.warning(e)\n",
    "\n",
    "#write the raw data to excel\n",
    "with open('WB governance.xlsx','wb') as f:\n",
    "    try:\n",
    "        f.write(r.content)\n",
    "        logging.info('successfuly downloaded bulk excel file')\n",
    "    except Exception as e:\n",
    "        logging.warning(e)"
   ]
  },
  {
   "cell_type": "code",
   "execution_count": 128,
   "metadata": {},
   "outputs": [],
   "source": [
    "Governance_total=pd.DataFrame()\n",
    "\n",
    "#get the sheet names to loop over\n",
    "wb=openpyxl.load_workbook(\"WB governance.xlsx\")\n",
    "sheetnames=wb.sheetnames[1:]\n",
    "\n",
    "for sh in sheetnames:\n",
    "    logging.info(f'processing sheet {sh}')    \n",
    "    df=pd.read_excel('WB governance.xlsx', sheet_name=sh)\n",
    "\n",
    "    #EXTRACT THE DATAFRAME FROM UNSTRCUTURED EXCEL SHEET\n",
    "    #get the dataframe filtered on idx at value = \"Country/Territory\"\n",
    "    idx=df[df.iloc[:,0]==\"Country/Territory\"].index[0]\n",
    "    df1=df.iloc[idx-1:, :].reset_index(drop=True)\n",
    "    #add the sheet name as a column\n",
    "    df1[sheetnames[1]]=sh\n",
    "\n",
    "    #zip the 1st 2 rows to make columns\n",
    "    cols=tuple(zip(df1.iloc[0,:],df1.iloc[1,:]))\n",
    "    #drop the 2 rows\n",
    "    df1.drop(axis=0, index=[0,1], inplace=True)\n",
    "    #add the cols as columns\n",
    "    df1.columns=cols\n",
    "\n",
    "    #RESHAPE THE DATAFRAME\n",
    "    #choose the id_vars (vars not to be reshaped) and value_vars (variables to reshape)\n",
    "    id_variables=df1.columns.to_list()[:2]\n",
    "    id_variables.append(df1.columns.to_list()[-1])\n",
    "\n",
    "    df_melt=pd.melt(df1,\n",
    "            id_vars=id_variables,\n",
    "            value_vars=df1.columns.to_list()[2:-1],\n",
    "            var_name=['Year','Type'])\n",
    "            \n",
    "    df_melt.columns=['Country/Territory','Code','Section','Year','Type','value']\n",
    "    logging.info(f'sheet {sh} succesfully reshaped to long with {len(df_melt)} rows')\n",
    "\n",
    "    #APPEND TO Governance_total DATAFRAME\n",
    "    Governance_total=Governance_total.append(df_melt)\n",
    "    logging.info(f'sheet {sh} is appended successfully')\n",
    "    logging.info(f'Governance_total has {len(Governance_total)} rows')\n",
    "    logging.info('/////////////////////////////////////////////////////')\n"
   ]
  },
  {
   "cell_type": "code",
   "execution_count": 129,
   "metadata": {},
   "outputs": [],
   "source": [
    "Governance_total.to_excel('Governance_total.xlsx', index=False)"
   ]
  },
  {
   "cell_type": "code",
   "execution_count": null,
   "metadata": {},
   "outputs": [],
   "source": []
  },
  {
   "cell_type": "code",
   "execution_count": null,
   "metadata": {},
   "outputs": [],
   "source": []
  },
  {
   "cell_type": "code",
   "execution_count": null,
   "metadata": {},
   "outputs": [],
   "source": []
  },
  {
   "cell_type": "code",
   "execution_count": null,
   "metadata": {},
   "outputs": [],
   "source": []
  },
  {
   "cell_type": "code",
   "execution_count": null,
   "metadata": {},
   "outputs": [],
   "source": []
  },
  {
   "cell_type": "code",
   "execution_count": null,
   "metadata": {},
   "outputs": [],
   "source": []
  },
  {
   "cell_type": "code",
   "execution_count": null,
   "metadata": {},
   "outputs": [],
   "source": []
  },
  {
   "cell_type": "code",
   "execution_count": null,
   "metadata": {},
   "outputs": [],
   "source": []
  }
 ],
 "metadata": {
  "kernelspec": {
   "display_name": "Python 3.9.5 ('gender')",
   "language": "python",
   "name": "python3"
  },
  "language_info": {
   "codemirror_mode": {
    "name": "ipython",
    "version": 3
   },
   "file_extension": ".py",
   "mimetype": "text/x-python",
   "name": "python",
   "nbconvert_exporter": "python",
   "pygments_lexer": "ipython3",
   "version": "3.9.5"
  },
  "orig_nbformat": 4,
  "vscode": {
   "interpreter": {
    "hash": "3340a8dbe92e4fa49e59761da80fb0f001258019a079c0e852bc3c4ea6500ccf"
   }
  }
 },
 "nbformat": 4,
 "nbformat_minor": 2
}
