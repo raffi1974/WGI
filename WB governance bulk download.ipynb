{
 "cells": [
  {
   "attachments": {},
   "cell_type": "markdown",
   "metadata": {},
   "source": [
    "#### bulk download World Bank Governance data"
   ]
  },
  {
   "cell_type": "code",
   "execution_count": 5,
   "metadata": {},
   "outputs": [],
   "source": [
    "import pandas as pd\n",
    "import numpy as np\n",
    "import os\n",
    "import time\n",
    "import logging\n",
    "from datetime import datetime\n",
    "import requests\n",
    "from bs4 import BeautifulSoup\n",
    "import openpyxl\n"
   ]
  },
  {
   "cell_type": "code",
   "execution_count": 12,
   "metadata": {},
   "outputs": [
    {
     "name": "stdout",
     "output_type": "stream",
     "text": [
      "200\n"
     ]
    }
   ],
   "source": [
    "#logger\n",
    "logging.basicConfig(filename='WB governance.log', filemode='w', format='%(asctime)s - %(message)s', level=logging.INFO)\n",
    "\n",
    "url='https://info.worldbank.org/governance/wgi/#home'\n",
    "\n",
    "response=requests.get(url)\n",
    "print(response.status_code)\n",
    "#to get the url for download\n",
    "soup=BeautifulSoup(response.content, 'html.parser')\n",
    "\n",
    "#getting the href for Download full dataset (Excel) link in the webpage\n",
    "s1=soup.find_all(\"ul\", {\"class\": \"listItems\"})\n",
    "\n",
    "url=s1[1].find_all(\"a\", {\"class\": \"file-download\"})[2]['href']\n",
    "domain='https://info.worldbank.org'\n",
    "#construct the url\n",
    "bulk_download_url=domain+url\n",
    "#to download the url\n",
    "try:\n",
    "    r=requests.get(bulk_download_url)\n",
    "    logging.info(f'Download request is sucessful {r.status_code}')\n",
    "except Exception as e:\n",
    "    logging.warning(e)\n",
    "\n",
    "#write the raw data to excel\n",
    "with open('WB governance.xlsx','wb') as f:\n",
    "    try:\n",
    "        f.write(r.content)\n",
    "        logging.info('successfuly downloaded bulk excel file')\n",
    "    except Exception as e:\n",
    "        logging.warning(e)"
   ]
  },
  {
   "cell_type": "code",
   "execution_count": 36,
   "metadata": {},
   "outputs": [
    {
     "name": "stdout",
     "output_type": "stream",
     "text": [
      "['Introduction', 'VoiceandAccountability', 'Political StabilityNoViolence', 'GovernmentEffectiveness', 'RegulatoryQuality', 'RuleofLaw', 'ControlofCorruption']\n"
     ]
    }
   ],
   "source": [
    "wb = openpyxl.load_workbook(\"WB governance.xlsx\")\n",
    "print(wb.sheetnames)"
   ]
  },
  {
   "cell_type": "code",
   "execution_count": null,
   "metadata": {},
   "outputs": [],
   "source": []
  },
  {
   "cell_type": "code",
   "execution_count": 15,
   "metadata": {},
   "outputs": [],
   "source": []
  },
  {
   "cell_type": "code",
   "execution_count": 17,
   "metadata": {},
   "outputs": [],
   "source": []
  },
  {
   "cell_type": "code",
   "execution_count": null,
   "metadata": {},
   "outputs": [],
   "source": [
    "\n"
   ]
  },
  {
   "cell_type": "code",
   "execution_count": 26,
   "metadata": {},
   "outputs": [],
   "source": []
  },
  {
   "cell_type": "code",
   "execution_count": null,
   "metadata": {},
   "outputs": [],
   "source": []
  },
  {
   "cell_type": "code",
   "execution_count": null,
   "metadata": {},
   "outputs": [],
   "source": []
  },
  {
   "cell_type": "code",
   "execution_count": null,
   "metadata": {},
   "outputs": [],
   "source": []
  }
 ],
 "metadata": {
  "kernelspec": {
   "display_name": "Python 3.9.5 ('gender')",
   "language": "python",
   "name": "python3"
  },
  "language_info": {
   "codemirror_mode": {
    "name": "ipython",
    "version": 3
   },
   "file_extension": ".py",
   "mimetype": "text/x-python",
   "name": "python",
   "nbconvert_exporter": "python",
   "pygments_lexer": "ipython3",
   "version": "3.9.5"
  },
  "orig_nbformat": 4,
  "vscode": {
   "interpreter": {
    "hash": "3340a8dbe92e4fa49e59761da80fb0f001258019a079c0e852bc3c4ea6500ccf"
   }
  }
 },
 "nbformat": 4,
 "nbformat_minor": 2
}
