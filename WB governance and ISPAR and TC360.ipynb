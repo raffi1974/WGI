{
 "cells": [
  {
   "attachments": {},
   "cell_type": "markdown",
   "metadata": {},
   "source": [
    "#### bulk download World Bank Governance data"
   ]
  },
  {
   "cell_type": "code",
   "execution_count": 1,
   "metadata": {},
   "outputs": [],
   "source": [
    "import pandas as pd\n",
    "import numpy as np\n",
    "import os\n",
    "import time\n",
    "import logging\n",
    "from datetime import datetime\n",
    "import requests\n",
    "from bs4 import BeautifulSoup\n",
    "import openpyxl\n",
    "import json\n",
    "import io\n",
    "\n",
    "# pd.set_option('display.max_colwidth', None)"
   ]
  },
  {
   "cell_type": "code",
   "execution_count": 2,
   "metadata": {},
   "outputs": [],
   "source": [
    "#logger\n",
    "logging.basicConfig(filename='WB governance.log', filemode='w', format='%(asctime)s - %(message)s', level=logging.INFO)\n",
    "logging.info('#############getting data by downloading from https://info.worldbank.org/governance/wgi/#home ##############')\n",
    "\n",
    "url='https://info.worldbank.org/governance/wgi/#home'\n",
    "\n",
    "#get the url for download\n",
    "response=requests.get(url)\n",
    "logging.info(f'request status code for the main url {response.status_code}')\n",
    "soup=BeautifulSoup(response.content, 'html.parser')\n",
    "\n",
    "#getting the href for Download full dataset (Excel) link in the webpage\n",
    "s1=soup.find_all(\"ul\", {\"class\": \"listItems\"})\n",
    "\n",
    "url=s1[1].find_all(\"a\", {\"class\": \"file-download\"})[2]['href']\n",
    "domain='https://info.worldbank.org'\n",
    "#construct the url\n",
    "bulk_download_url=domain+url\n",
    "#to download the url\n",
    "try:\n",
    "    r=requests.get(bulk_download_url)\n",
    "    logging.info(f'Download request is status code is {r.status_code}')\n",
    "except Exception as e:\n",
    "    logging.warning(e)\n",
    "\n",
    "#write the raw data to excel\n",
    "with open('WB governance.xlsx','wb') as f:\n",
    "    try:\n",
    "        f.write(r.content)\n",
    "        logging.info('successfuly downloaded bulk excel file')\n",
    "    except Exception as e:\n",
    "        logging.warning(e)\n",
    "logging.info('---------------------------------------------------')"
   ]
  },
  {
   "cell_type": "code",
   "execution_count": 3,
   "metadata": {},
   "outputs": [],
   "source": [
    "Governance_total=pd.DataFrame()\n",
    "\n",
    "#get the sheet names to loop over\n",
    "wb=openpyxl.load_workbook(\"WB governance.xlsx\")\n",
    "sheetnames=wb.sheetnames[1:]\n",
    "\n",
    "#counter to count rows of newly added dataframes\n",
    "sheet_counter={}\n",
    "\n",
    "for sh in sheetnames:\n",
    "    logging.info(f'processing sheet {sh}')    \n",
    "    df=pd.read_excel('WB governance.xlsx', sheet_name=sh)\n",
    "\n",
    "    #EXTRACT THE DATAFRAME FROM UNSTRCUTURED EXCEL SHEET\n",
    "    #get the dataframe filtered on idx at value = \"Country/Territory\"\n",
    "    idx=df[df.iloc[:,0]==\"Country/Territory\"].index[0]\n",
    "    df1=df.iloc[idx-1:, :].reset_index(drop=True)\n",
    "\n",
    "    #zip the 1st 2 rows to make columns\n",
    "    cols=tuple(zip(df1.iloc[0,:],df1.iloc[1,:]))\n",
    "    #drop the 2 rows\n",
    "    df1.drop(axis=0, index=[0,1], inplace=True)\n",
    "    #add the cols as columns\n",
    "    df1.columns=cols\n",
    "    \n",
    "    #add the sheet name as a column\n",
    "    df1[sh]=sh\n",
    "\n",
    "    #filter the dataframe on ['Country/Territory','Code','Estimate', 'Rank']\n",
    "    cols_to_filter=[(a,b) for (a,b) in list(df1.columns) if (b in ['Country/Territory','Code','Estimate', 'Rank']) | (a==sh)]\n",
    "    df1=df1.loc[:,cols_to_filter]\n",
    "\n",
    "    #'Estimate', 'Rank' will be melted, so the melted dataframe must have double the row numbers of the unmelted dataframe. the number of  'Estimate', 'Rank' for timeseries = len(cols_to_filter) - 2 (remove 'Country/Territory','Code', sh)\n",
    "    wide_df_rows= len(df1)\n",
    "    logging.info(f'wide dataframe for {sh} has {wide_df_rows} rows') \n",
    "    n_wide=len(cols_to_filter)-3\n",
    "\n",
    "    #RESHAPE THE DATAFRAME\n",
    "    #choose 'Country/Territory','Code' and the sheetname col added at the end of the dataframe as id_vars (vars not to be reshaped) and the rest as value_vars (variables to reshape)\n",
    "    id_variables=df1.columns.to_list()[:2]\n",
    "    id_variables.append(df1.columns.to_list()[-1])\n",
    "\n",
    "    df_melt=pd.melt(df1,\n",
    "            id_vars=id_variables,\n",
    "            value_vars=df1.columns.to_list()[2:-1],\n",
    "            var_name=['Year','Type'])\n",
    "            \n",
    "    df_melt.columns=['Country/Territory','Code','Section','Year','Type','value']\n",
    "    \n",
    "    #check if melting went ok by checking the number of rows pre and post melting\n",
    "    if len(df_melt)==wide_df_rows*n_wide:\n",
    "        logging.info(f'sheet {sh} succesfully reshaped to long with {len(df_melt)} rows')\n",
    "    else:\n",
    "        logging.warning(f'WARNING!!!!!!!!! problem with melting {sh}, which has {len(df_melt)} rows whereas before melting it had {wide_df_rows} rows and n_wide was {n_wide}')\n",
    "\n",
    "    #APPEND TO Governance_total DATAFRAME\n",
    "    Governance_total=Governance_total.append(df_melt)\n",
    "    logging.info(f'sheet {sh} is appended successfully')\n",
    "    logging.info(f'Governance_total has {len(Governance_total)} rows')\n",
    "    logging.info('---------------------------------------------------------')\n"
   ]
  },
  {
   "cell_type": "code",
   "execution_count": 4,
   "metadata": {},
   "outputs": [],
   "source": [
    "Governance_total.to_excel('Governance_total.xlsx', index=False)"
   ]
  },
  {
   "attachments": {},
   "cell_type": "markdown",
   "metadata": {},
   "source": [
    "#### ISPAR data"
   ]
  },
  {
   "cell_type": "code",
   "execution_count": 5,
   "metadata": {},
   "outputs": [],
   "source": [
    "logging.info('#############getting data from ISPAR##############')\n",
    "\n",
    "id={3:'Global Cybersecurity Index',\n",
    "        4:'Global Gender Gap Index',\n",
    "        5:'ICT Development Index',\n",
    "        6:'Network Readiness Index',\n",
    "        7:'Global Innovation Index',\n",
    "        9:'E-Government Development Index',\n",
    "        11:'Global Competitiveness Index',\n",
    "        12:'E-Participation index',\n",
    "        14:'AI Readiness Index',\n",
    "        16:'Open Data Inventory Index'}\n",
    "\n",
    "#get country list\n",
    "country=['Algeria','Bahrain','Comoros','Djibouti','Egypt','Iraq','Jordan','Kuwait','Lebanon','Libya','Morocco','Oman','Qatar','Saudi Arabia','Somalia','State of Palestine','Sudan','Syrian Arab Republic','Tunisia','United Arab Emirates','Yemen, Rep.']\n",
    "\n",
    "url='https://datacatalog.unescwa.org/datastore/dump_v2?resource_id=e0d88222-f90c-4a92-8de4-397f6529c402&format=csv'\n",
    "\n",
    "#get the url for download\n",
    "response=requests.get(url)\n",
    "\n",
    "try:\n",
    "    if response.status_code!=200:\n",
    "        logging.warning(f'!!!!!!WARNING!!!!!!status code is {response.status_code}')\n",
    "\n",
    "    #read the response into pandas dataframe\n",
    "    df = pd.read_csv(io.BytesIO(response.content))\n",
    "    logging.info(f'dataframe returned with {len(df)} rows')\n",
    "\n",
    "    #remove the 0.colname from column names\n",
    "    df.columns=[i.replace(\"0.\", \"\") for i in df.columns]\n",
    "\n",
    "    #filter on Index ID and 'Country Name'\n",
    "    df_filtered=df[(df['Index ID'].isin(id)) & (df['Country Name'].isin(country))]\n",
    "\n",
    "    df_filtered.to_excel('ISPAR.xlsx', index=False)\n",
    "    logging.info(f'dataframe for Arab countries returned with {len(df_filtered)} rows')\n",
    "\n",
    "    #goupby and aggregate as mean\n",
    "    ispar_aggregated=df_filtered.groupby(['Index Name', 'Year']).aggregate({'Score':'mean'})\n",
    "    ispar_aggregated.to_excel('ISPAR_AGGREGATED.xlsx')\n",
    "    logging.info('groupby.aggregate() successful and saved as ISPAR_AGGREGATED.xlsx')\n",
    "\n",
    "    # #to download to a csv\n",
    "    # with open('ISPAR.csv', 'wb') as f:\n",
    "    #     f.write(response.content)\n",
    "\n",
    "except Exception as e:\n",
    "    logging.warning(f'!!!WARNING!!!  {e}')"
   ]
  },
  {
   "cell_type": "code",
   "execution_count": 6,
   "metadata": {},
   "outputs": [
    {
     "data": {
      "text/html": [
       "<div>\n",
       "<style scoped>\n",
       "    .dataframe tbody tr th:only-of-type {\n",
       "        vertical-align: middle;\n",
       "    }\n",
       "\n",
       "    .dataframe tbody tr th {\n",
       "        vertical-align: top;\n",
       "    }\n",
       "\n",
       "    .dataframe thead th {\n",
       "        text-align: right;\n",
       "    }\n",
       "</style>\n",
       "<table border=\"1\" class=\"dataframe\">\n",
       "  <thead>\n",
       "    <tr style=\"text-align: right;\">\n",
       "      <th></th>\n",
       "      <th>Country Name</th>\n",
       "      <th>ISO</th>\n",
       "      <th>Index ID</th>\n",
       "      <th>Index Name</th>\n",
       "      <th>Pillar ID</th>\n",
       "      <th>Pillar Name</th>\n",
       "      <th>Rank</th>\n",
       "      <th>Score</th>\n",
       "      <th>Year</th>\n",
       "      <th>_id</th>\n",
       "    </tr>\n",
       "  </thead>\n",
       "  <tbody>\n",
       "    <tr>\n",
       "      <th>79</th>\n",
       "      <td>Iraq</td>\n",
       "      <td>IRQ</td>\n",
       "      <td>12</td>\n",
       "      <td>E-Participation index</td>\n",
       "      <td>75</td>\n",
       "      <td>Stage Two</td>\n",
       "      <td>91</td>\n",
       "      <td>0.2143</td>\n",
       "      <td>2022</td>\n",
       "      <td>700061</td>\n",
       "    </tr>\n",
       "    <tr>\n",
       "      <th>85</th>\n",
       "      <td>Jordan</td>\n",
       "      <td>JOR</td>\n",
       "      <td>12</td>\n",
       "      <td>E-Participation index</td>\n",
       "      <td>75</td>\n",
       "      <td>Stage Two</td>\n",
       "      <td>60</td>\n",
       "      <td>0.4286</td>\n",
       "      <td>2022</td>\n",
       "      <td>700067</td>\n",
       "    </tr>\n",
       "    <tr>\n",
       "      <th>89</th>\n",
       "      <td>Kuwait</td>\n",
       "      <td>KWT</td>\n",
       "      <td>12</td>\n",
       "      <td>E-Participation index</td>\n",
       "      <td>75</td>\n",
       "      <td>Stage Two</td>\n",
       "      <td>60</td>\n",
       "      <td>0.4286</td>\n",
       "      <td>2022</td>\n",
       "      <td>700071</td>\n",
       "    </tr>\n",
       "    <tr>\n",
       "      <th>93</th>\n",
       "      <td>Lebanon</td>\n",
       "      <td>LBN</td>\n",
       "      <td>12</td>\n",
       "      <td>E-Participation index</td>\n",
       "      <td>75</td>\n",
       "      <td>Stage Two</td>\n",
       "      <td>113</td>\n",
       "      <td>0.1429</td>\n",
       "      <td>2022</td>\n",
       "      <td>700075</td>\n",
       "    </tr>\n",
       "    <tr>\n",
       "      <th>96</th>\n",
       "      <td>Libya</td>\n",
       "      <td>LBY</td>\n",
       "      <td>12</td>\n",
       "      <td>E-Participation index</td>\n",
       "      <td>75</td>\n",
       "      <td>Stage Two</td>\n",
       "      <td>135</td>\n",
       "      <td>0.0714</td>\n",
       "      <td>2022</td>\n",
       "      <td>700078</td>\n",
       "    </tr>\n",
       "  </tbody>\n",
       "</table>\n",
       "</div>"
      ],
      "text/plain": [
       "   Country Name  ISO  Index ID              Index Name  Pillar ID Pillar Name  \\\n",
       "79         Iraq  IRQ        12  E-Participation index          75   Stage Two   \n",
       "85       Jordan  JOR        12  E-Participation index          75   Stage Two   \n",
       "89       Kuwait  KWT        12  E-Participation index          75   Stage Two   \n",
       "93      Lebanon  LBN        12  E-Participation index          75   Stage Two   \n",
       "96        Libya  LBY        12  E-Participation index          75   Stage Two   \n",
       "\n",
       "    Rank   Score  Year     _id  \n",
       "79    91  0.2143  2022  700061  \n",
       "85    60  0.4286  2022  700067  \n",
       "89    60  0.4286  2022  700071  \n",
       "93   113  0.1429  2022  700075  \n",
       "96   135  0.0714  2022  700078  "
      ]
     },
     "execution_count": 6,
     "metadata": {},
     "output_type": "execute_result"
    }
   ],
   "source": [
    "df_filtered.head()"
   ]
  },
  {
   "attachments": {},
   "cell_type": "markdown",
   "metadata": {},
   "source": [
    "### Worldbank  TCdata360"
   ]
  },
  {
   "cell_type": "code",
   "execution_count": 18,
   "metadata": {},
   "outputs": [
    {
     "name": "stdout",
     "output_type": "stream",
     "text": [
      "200\n"
     ]
    }
   ],
   "source": [
    "logging.info('#############getting data from Worldbank  TCdata360##############')\n",
    "\n",
    "ind_url='https://tcdata360-backend.worldbank.org/api/v1/indicators/'\n",
    "\n",
    "#get the url for download\n",
    "response=requests.get(ind_url)\n",
    "print(response.status_code)"
   ]
  },
  {
   "cell_type": "code",
   "execution_count": 19,
   "metadata": {},
   "outputs": [],
   "source": [
    "# result=json.loads(response.text)\n",
    "# pd.DataFrame([(r['id'],r['name'],r['dateRange']) for r in result], columns=['id','name','date range']).to_excel('TCdata360.xlsx', index=False)"
   ]
  },
  {
   "cell_type": "code",
   "execution_count": 20,
   "metadata": {},
   "outputs": [
    {
     "data": {
      "text/plain": [
       "'https://tcdata360-backend.worldbank.org/api/v1/data?countries=ARE%2CBHR%2CCOM%2CDJI%2CDZA%2CEGY%2CIRQ%2CJOR%2CKWT%2CLBN%2CLBY%2CMAR%2CMRT%2COMN%2CQAT%2CSAU%2CSDN%2CSOM%2CSYR%2CTUN%2CYEM%2CPSE&indicators=45410%2C45283%2C3294%2C1776%2C799%2C3500%2C960%2C3421%2C922%2C2073%2C27962%2C40711'"
      ]
     },
     "execution_count": 20,
     "metadata": {},
     "output_type": "execute_result"
    }
   ],
   "source": [
    "#get data\n",
    "\n",
    "#get countries codes to add to the url\n",
    "df_countries=pd.read_excel('Countries.xlsx')\n",
    "df_countries=df_countries[df_countries['Filter']==1]\n",
    "countries=dict(zip(df_countries['Country'], df_countries['iso3']))\n",
    "\n",
    "#get indicator codes to add to the url\n",
    "df_ind=pd.read_excel('indicators_TC360.xlsx')\n",
    "df_ind=df_ind[df_ind['Filter']==1]\n",
    "ind=dict(zip(df_ind['name'], df_ind['id']))\n",
    "\n",
    "main_data_url='https://tcdata360-backend.worldbank.org/api/v1/data?'\n",
    "\n",
    "# m_data_url='https://tcdata360-backend.worldbank.org/api/v1/data?countries=ARE%2CBHR%2CCOM%2CDJI%2CDZA%2CEGY%2CIRQ%2CJOR%2CKWT%2CLBN%2CLBY%2CMAR%2CMRT%2COMN%2CQAT%2CSAU%2CSDN%2CSOM%2CSYR%2CTUN%2CYEM%2CPSE&indicators=45410%2C45283%2C3294%2C1776%2C799%2C3500%2C960%2C3421%2C922%2C2073%2C27959%2C27962%2C40712%2C40711'\n",
    "\n",
    "cntry_url=''\n",
    "first_element=True\n",
    "for k,v in countries.items():\n",
    "    if first_element:\n",
    "        cntry_url=cntry_url+v\n",
    "        first_element=False\n",
    "    else:\n",
    "        cntry_url=cntry_url+'%2C'+v\n",
    "\n",
    "\n",
    "ind_url=''\n",
    "first_element=True\n",
    "for k,v in ind.items():\n",
    "    if first_element:\n",
    "        ind_url=ind_url+str(v)\n",
    "        first_element=False\n",
    "    else:\n",
    "        ind_url=ind_url+'%2C'+str(v)\n",
    "\n",
    "data_url=main_data_url+'countries='+cntry_url+'&'+'indicators='+ind_url\n",
    "data_url"
   ]
  },
  {
   "cell_type": "code",
   "execution_count": 21,
   "metadata": {},
   "outputs": [
    {
     "name": "stdout",
     "output_type": "stream",
     "text": [
      "200\n"
     ]
    }
   ],
   "source": [
    "response=requests.get(data_url)\n",
    "print(response.status_code)\n",
    "r=json.loads(response.content)"
   ]
  },
  {
   "cell_type": "code",
   "execution_count": 22,
   "metadata": {},
   "outputs": [
    {
     "data": {
      "text/plain": [
       "dict_keys(['countries', 'indicators', 'products', 'partners', 'data'])"
      ]
     },
     "execution_count": 22,
     "metadata": {},
     "output_type": "execute_result"
    }
   ],
   "source": [
    "r.keys()"
   ]
  },
  {
   "cell_type": "code",
   "execution_count": 145,
   "metadata": {},
   "outputs": [],
   "source": [
    "'''r['data'] is a list of nested dictionaries of the below structure\n",
    "[{'id': 'DZA',\n",
    "  'indicators': [{'id': 799,\n",
    "    'values': {'1988': 6.3, '1995': 5.6, '2011': 0.4},\n",
    "    'estimated': []}, ...'''\n",
    "\n",
    "final_data=[]\n",
    "#looping over each country data\n",
    "for c in r['data']:\n",
    "    country=c['id']\n",
    "    #looping over data to get metadata\n",
    "    for m in c['indicators']:\n",
    "        metadata=[m['id'],m['estimated']]\n",
    "        metadata.append(country)\n",
    "        #looping over data to get time series values and append to eat list above metadata\n",
    "        country_data=[]\n",
    "        for v in m['values'].items():\n",
    "            datapoint=list(v)\n",
    "            datapoint.extend(metadata)\n",
    "            country_data.append(datapoint)\n",
    "\n",
    "        final_data.append(country_data)\n",
    "            \n",
    "\n",
    "\n"
   ]
  },
  {
   "cell_type": "code",
   "execution_count": 150,
   "metadata": {},
   "outputs": [
    {
     "data": {
      "text/html": [
       "<div>\n",
       "<style scoped>\n",
       "    .dataframe tbody tr th:only-of-type {\n",
       "        vertical-align: middle;\n",
       "    }\n",
       "\n",
       "    .dataframe tbody tr th {\n",
       "        vertical-align: top;\n",
       "    }\n",
       "\n",
       "    .dataframe thead th {\n",
       "        text-align: right;\n",
       "    }\n",
       "</style>\n",
       "<table border=\"1\" class=\"dataframe\">\n",
       "  <thead>\n",
       "    <tr style=\"text-align: right;\">\n",
       "      <th></th>\n",
       "      <th>Year</th>\n",
       "      <th>Value</th>\n",
       "      <th>indicator_id</th>\n",
       "      <th>estimated</th>\n",
       "      <th>Country</th>\n",
       "    </tr>\n",
       "  </thead>\n",
       "  <tbody>\n",
       "    <tr>\n",
       "      <th>0</th>\n",
       "      <td>1988</td>\n",
       "      <td>6.3</td>\n",
       "      <td>799</td>\n",
       "      <td>[]</td>\n",
       "      <td>DZA</td>\n",
       "    </tr>\n",
       "    <tr>\n",
       "      <th>1</th>\n",
       "      <td>1995</td>\n",
       "      <td>5.6</td>\n",
       "      <td>799</td>\n",
       "      <td>[]</td>\n",
       "      <td>DZA</td>\n",
       "    </tr>\n",
       "    <tr>\n",
       "      <th>2</th>\n",
       "      <td>2011</td>\n",
       "      <td>0.4</td>\n",
       "      <td>799</td>\n",
       "      <td>[]</td>\n",
       "      <td>DZA</td>\n",
       "    </tr>\n",
       "  </tbody>\n",
       "</table>\n",
       "</div>"
      ],
      "text/plain": [
       "   Year  Value  indicator_id estimated Country\n",
       "0  1988    6.3           799        []     DZA\n",
       "1  1995    5.6           799        []     DZA\n",
       "2  2011    0.4           799        []     DZA"
      ]
     },
     "execution_count": 150,
     "metadata": {},
     "output_type": "execute_result"
    }
   ],
   "source": [
    "pd.DataFrame(final_data[0], columns=['Year','Value','indicator_id','estimated','Country'])"
   ]
  },
  {
   "cell_type": "code",
   "execution_count": null,
   "metadata": {},
   "outputs": [],
   "source": []
  },
  {
   "cell_type": "code",
   "execution_count": null,
   "metadata": {},
   "outputs": [],
   "source": []
  },
  {
   "cell_type": "code",
   "execution_count": null,
   "metadata": {},
   "outputs": [],
   "source": []
  }
 ],
 "metadata": {
  "kernelspec": {
   "display_name": "Python 3.9.5 ('gender')",
   "language": "python",
   "name": "python3"
  },
  "language_info": {
   "codemirror_mode": {
    "name": "ipython",
    "version": 3
   },
   "file_extension": ".py",
   "mimetype": "text/x-python",
   "name": "python",
   "nbconvert_exporter": "python",
   "pygments_lexer": "ipython3",
   "version": "3.9.5"
  },
  "orig_nbformat": 4,
  "vscode": {
   "interpreter": {
    "hash": "3340a8dbe92e4fa49e59761da80fb0f001258019a079c0e852bc3c4ea6500ccf"
   }
  }
 },
 "nbformat": 4,
 "nbformat_minor": 2
}
